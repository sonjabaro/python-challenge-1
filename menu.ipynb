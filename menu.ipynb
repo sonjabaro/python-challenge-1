{
 "cells": [
  {
   "cell_type": "code",
   "execution_count": 24,
   "id": "2f03d052",
   "metadata": {},
   "outputs": [],
   "source": [
    "# Menu dictionary\n",
    "menu = {\n",
    "    \"Snacks\": {\n",
    "        \"Cookie\": .99,\n",
    "        \"Banana\": .69,\n",
    "        \"Apple\": .49,\n",
    "        \"Granola bar\": 1.99\n",
    "    },\n",
    "    \"Meals\": {\n",
    "        \"Burrito\": 4.49,\n",
    "        \"Teriyaki Chicken\": 9.99,\n",
    "        \"Sushi\": 7.49,\n",
    "        \"Pad Thai\": 6.99,\n",
    "        \"Pizza\": {\n",
    "            \"Cheese\": 8.99,\n",
    "            \"Pepperoni\": 10.99,\n",
    "            \"Vegetarian\": 9.99\n",
    "        },\n",
    "        \"Burger\": {\n",
    "            \"Chicken\": 7.49,\n",
    "            \"Beef\": 8.49\n",
    "        }\n",
    "    },\n",
    "    \"Drinks\": {\n",
    "        \"Soda\": {\n",
    "            \"Small\": 1.99,\n",
    "            \"Medium\": 2.49,\n",
    "            \"Large\": 2.99\n",
    "        },\n",
    "        \"Tea\": {\n",
    "            \"Green\": 2.49,\n",
    "            \"Thai iced\": 3.99,\n",
    "            \"Irish breakfast\": 2.49\n",
    "        },\n",
    "        \"Coffee\": {\n",
    "            \"Espresso\": 2.99,\n",
    "            \"Flat white\": 2.99,\n",
    "            \"Iced\": 3.49\n",
    "        }\n",
    "    },\n",
    "    \"Dessert\": {\n",
    "        \"Chocolate lava cake\": 10.99,\n",
    "        \"Cheesecake\": {\n",
    "            \"New York\": 4.99,\n",
    "            \"Strawberry\": 6.49\n",
    "        },\n",
    "        \"Australian Pavlova\": 9.99,\n",
    "        \"Rice pudding\": 4.99,\n",
    "        \"Fried banana\": 4.49\n",
    "    }\n",
    "}"
   ]
  },
  {
   "cell_type": "code",
   "execution_count": 25,
   "id": "0725ba83",
   "metadata": {},
   "outputs": [
    {
     "name": "stdout",
     "output_type": "stream",
     "text": [
      "Welcome to the variety food truck.\n"
     ]
    }
   ],
   "source": [
    "# 1. Set up order list. Order list will store a list of dictionaries for\n",
    "# menu item name, item price, and quantity ordered\n",
    "order_list = [ ]\n",
    "# Launch the store and present a greeting to the customer\n",
    "print(\"Welcome to the variety food truck.\")\n",
    "\n",
    " "
   ]
  },
  {
   "cell_type": "code",
   "execution_count": 26,
   "id": "e1997a7c",
   "metadata": {
    "lines_to_next_cell": 2
   },
   "outputs": [
    {
     "name": "stdout",
     "output_type": "stream",
     "text": [
      "From which menu would you like to order? \n",
      "1: Snacks\n",
      "2: Meals\n",
      "3: Drinks\n",
      "4: Dessert\n",
      "You selected Drinks\n",
      "What Drinks item would you like to order?\n",
      "Item # | Item name                | Price\n",
      "-------|--------------------------|-------\n",
      "1      | Soda - Small             | $1.99\n",
      "2      | Soda - Medium            | $2.49\n",
      "3      | Soda - Large             | $2.99\n",
      "4      | Tea - Green              | $2.49\n",
      "5      | Tea - Thai iced          | $3.99\n",
      "6      | Tea - Irish breakfast    | $2.49\n",
      "7      | Coffee - Espresso        | $2.99\n",
      "8      | Coffee - Flat white      | $2.99\n",
      "9      | Coffee - Iced            | $3.49\n"
     ]
    }
   ],
   "source": [
    "\n",
    "# Customers may want to order multiple items, so let's create a continuous\n",
    "# loop\n",
    "place_order = True\n",
    "while place_order:\n",
    "    # Ask the customer from which menu category they want to order\n",
    "    print(\"From which menu would you like to order? \")\n",
    "\n",
    "    # Create a variable for the menu item number\n",
    "    i = 1\n",
    "    # Create a dictionary to store the menu for later retrieval\n",
    "    menu_items = {}\n",
    "\n",
    "    # Print the options to choose from menu headings (all the first level\n",
    "    # dictionary items in menu).\n",
    "    for key in menu.keys():\n",
    "        print(f\"{i}: {key}\")\n",
    "        # Store the menu category associated with its menu item number\n",
    "        menu_items[i] = key\n",
    "        # Add 1 to the menu item number\n",
    "        i += 1\n",
    "\n",
    "    # Get the customer's input\n",
    "    menu_category = input(\"Type menu number: \")\n",
    "\n",
    "    # Check if the customer's input is a number\n",
    "    if menu_category.isdigit():\n",
    "        # Check if the customer's input is a valid option\n",
    "        if int(menu_category) in menu_items.keys():\n",
    "            # Save the menu category name to a variable\n",
    "            menu_category_name = menu_items[int(menu_category)]\n",
    "            # Print out the menu category name they selected\n",
    "            print(f\"You selected {menu_category_name}\")\n",
    "\n",
    "            # Print out the menu options from the menu_category_name\n",
    "            print(f\"What {menu_category_name} item would you like to order?\")\n",
    "            i = 1\n",
    "            menu_items = {}\n",
    "            print(\"Item # | Item name                | Price\")\n",
    "            print(\"-------|--------------------------|-------\")\n",
    "            for key, value in menu[menu_category_name].items():\n",
    "                # Check if the menu item is a dictionary to handle differently\n",
    "                if type(value) is dict:\n",
    "                    for key2, value2 in value.items():\n",
    "                        num_item_spaces = 24 - len(key + key2) - 3\n",
    "                        item_spaces = \" \" * num_item_spaces\n",
    "                        print(f\"{i}      | {key} - {key2}{item_spaces} | ${value2}\")\n",
    "                        menu_items[i] = {\n",
    "                            \"Item name\": key + \" - \" + key2,\n",
    "                            \"Price\": value2\n",
    "                        }\n",
    "                        i += 1\n",
    "                else:\n",
    "                    num_item_spaces = 24 - len(key)\n",
    "                    item_spaces = \" \" * num_item_spaces\n",
    "                    print(f\"{i}      | {key}{item_spaces} | ${value}\")\n",
    "                    menu_items[i] = {\n",
    "                        \"Item name\": key,\n",
    "                        \"Price\": value\n",
    "                    }\n",
    "                    i += 1\n",
    "                \n",
    "        #2. Ask customer to input menu item number\n",
    "        menu_selection = input(f\"Please enter the number for the {menu_category_name} item you would like to order: \")\n",
    "        \n",
    "        #3. check if customer typed a number\n",
    "        if menu_selection.isdigit():\n",
    "            #convert to an integer\n",
    "            menu_selection = int(menu_selection)\n",
    "            \n",
    "        # 4. Check if menu selection is in menu items\n",
    "            if menu_selection in menu_items.keys():\n",
    "        # Save item as variable, along with item price\n",
    "                food_item = menu_items[menu_selection][\"Item name\"]\n",
    "                item_price = float(menu_items[menu_selection][\"Price\"])\n",
    "                #ask customer for quantity of item\n",
    "                quantity = input(f\"How many {food_item}s would you like to order? Default will be 1 if you don't specify.\")\n",
    "                \n",
    "                #Check if quantity is a number, default to 1 if not\n",
    "                if quantity.isdigit() and int(quantity) >0:\n",
    "                    quantity =int(quantity)\n",
    "                else: quantity =1\n",
    "                 # Add the item name, price, and quantity to the order list\n",
    "            \n",
    "                order_list.append ({\"Item name\": food_item, \"Price\": item_price,\"Quantity\": quantity})\n",
    "\n",
    "\n",
    "            # Tell the customer they didn't select a menu option\n",
    "            else:\n",
    "                print(f\"{menu_category} was not a menu option.\")\n",
    "            while True:\n",
    "                # Ask the customer if they would like to order anything else\n",
    "                #This is a continuous loop to allow customer to continue ordering\n",
    "                    keep_ordering = input(\"Would you like to keep ordering? (Y)es or (N)o \")\n",
    "\n",
    "                # 5. Check the customer's input\n",
    "                    match keep_ordering.lower():\n",
    "                    # Keep ordering\n",
    "                        case 'y':\n",
    "                            place_order =True \n",
    "                            break\n",
    "                        \n",
    "                        case 'n':\n",
    "                            place_order = False\n",
    "                            break\n",
    "                        # Exit the keep ordering question loop\n",
    "                        # Complete the order\n",
    "                        case _:\n",
    "                            print (\"I didn't understand your selection. Please try again\")\n",
    "\n",
    "                        # Since the customer decided to stop ordering, thank them for\n",
    "                        # their order\n",
    "                    print(\"Thank you for your order.\")\n",
    "                    # Exit the keep ordering question loop\n",
    "        \n",
    "        #customer typed an invalid input\n",
    "        # Tell the customer to try again         \n",
    "    else:\n",
    "        print(\"You provided an invalid input. Try using a number.\")\n",
    "        \n",
    "  \n",
    "         \n",
    "              \n",
    "                "
   ]
  },
  {
   "cell_type": "code",
   "execution_count": 36,
   "metadata": {},
   "outputs": [],
   "source": [
    "#6.Loop through the items in the customer's order\n",
    "for order_item in order_list:\n",
    "    # 7. Store the dictionary items as variables\n",
    "    item_name = order_item[\"Item name\"]\n",
    "    item_price = order_item[\"Price\"]\n",
    "    quantity = order_item[\"Quantity\"]\n"
   ]
  },
  {
   "cell_type": "code",
   "execution_count": 37,
   "metadata": {},
   "outputs": [
    {
     "name": "stdout",
     "output_type": "stream",
     "text": [
      "This is what we are preparing for you.\n",
      "\n",
      "Item name                 | Price  | Quantity\n",
      "--------------------------|--------|----------\n"
     ]
    }
   ],
   "source": [
    "#print out customers order\n",
    "\n",
    "\n",
    "print(\"This is what we are preparing for you.\\n\")\n",
    "print(\"Item name                 | Price  | Quantity\")\n",
    "print(\"--------------------------|--------|----------\")\n"
   ]
  },
  {
   "cell_type": "code",
   "execution_count": 38,
   "id": "bdaab9b9",
   "metadata": {
    "lines_to_next_cell": 2
   },
   "outputs": [
    {
     "name": "stdout",
     "output_type": "stream",
     "text": [
      "Soda - Large              | $2.99     | 3         \n"
     ]
    }
   ],
   "source": [
    "\n",
    "    # 8. Calculate the number of spaces for formatted printing\n",
    "num_item_spaces = 25 - len(food_item)\n",
    "num_price_spaces = 8 - len(str(item_price))\n",
    "num_quantity_spaces = 10 - len(str(quantity))\n",
    "\n",
    "  # 9. Create space strings\n",
    "item_spaces = \" \" * num_item_spaces\n",
    "price_spaces = \" \" * num_price_spaces\n",
    "quantity_spaces = \" \" * num_quantity_spaces\n",
    "  \n",
    "\n",
    "    # 10. Print the item name, price, and quantity.\n",
    "print(f\"{food_item}{item_spaces} | ${item_price:.2f}{price_spaces} | {quantity}{quantity_spaces}\")"
   ]
  },
  {
   "cell_type": "markdown",
   "id": "1d05d231",
   "metadata": {},
   "source": [
    "11. Calculate the cost of the order using list comprehension\n",
    "Multiply the price by quantity for each item in the order list, then sum()\n",
    "and print the prices."
   ]
  },
  {
   "cell_type": "code",
   "execution_count": 35,
   "metadata": {},
   "outputs": [
    {
     "name": "stdout",
     "output_type": "stream",
     "text": [
      "Total cost of the order: $8.97\n"
     ]
    }
   ],
   "source": [
    "total_cost = sum(item[\"Price\"] * item[\"Quantity\"] for item in order_list)\n",
    "print(f\"Total cost of the order: ${total_cost:.2f}\")"
   ]
  }
 ],
 "metadata": {
  "jupytext": {
   "cell_metadata_filter": "-all",
   "main_language": "python",
   "notebook_metadata_filter": "-all"
  },
  "kernelspec": {
   "display_name": "base",
   "language": "python",
   "name": "python3"
  },
  "language_info": {
   "codemirror_mode": {
    "name": "ipython",
    "version": 3
   },
   "file_extension": ".py",
   "mimetype": "text/x-python",
   "name": "python",
   "nbconvert_exporter": "python",
   "pygments_lexer": "ipython3",
   "version": "3.11.5"
  }
 },
 "nbformat": 4,
 "nbformat_minor": 5
}
