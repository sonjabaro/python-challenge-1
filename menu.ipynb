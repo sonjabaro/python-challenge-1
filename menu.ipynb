{
 "cells": [
  {
   "cell_type": "code",
   "execution_count": 1,
   "id": "2f03d052",
   "metadata": {},
   "outputs": [],
   "source": [
    "# Menu dictionary\n",
    "menu = {\n",
    "    \"Snacks\": {\n",
    "        \"Cookie\": .99,\n",
    "        \"Banana\": .69,\n",
    "        \"Apple\": .49,\n",
    "        \"Granola bar\": 1.99\n",
    "    },\n",
    "    \"Meals\": {\n",
    "        \"Burrito\": 4.49,\n",
    "        \"Teriyaki Chicken\": 9.99,\n",
    "        \"Sushi\": 7.49,\n",
    "        \"Pad Thai\": 6.99,\n",
    "        \"Pizza\": {\n",
    "            \"Cheese\": 8.99,\n",
    "            \"Pepperoni\": 10.99,\n",
    "            \"Vegetarian\": 9.99\n",
    "        },\n",
    "        \"Burger\": {\n",
    "            \"Chicken\": 7.49,\n",
    "            \"Beef\": 8.49\n",
    "        }\n",
    "    },\n",
    "    \"Drinks\": {\n",
    "        \"Soda\": {\n",
    "            \"Small\": 1.99,\n",
    "            \"Medium\": 2.49,\n",
    "            \"Large\": 2.99\n",
    "        },\n",
    "        \"Tea\": {\n",
    "            \"Green\": 2.49,\n",
    "            \"Thai iced\": 3.99,\n",
    "            \"Irish breakfast\": 2.49\n",
    "        },\n",
    "        \"Coffee\": {\n",
    "            \"Espresso\": 2.99,\n",
    "            \"Flat white\": 2.99,\n",
    "            \"Iced\": 3.49\n",
    "        }\n",
    "    },\n",
    "    \"Dessert\": {\n",
    "        \"Chocolate lava cake\": 10.99,\n",
    "        \"Cheesecake\": {\n",
    "            \"New York\": 4.99,\n",
    "            \"Strawberry\": 6.49\n",
    "        },\n",
    "        \"Australian Pavlova\": 9.99,\n",
    "        \"Rice pudding\": 4.99,\n",
    "        \"Fried banana\": 4.49\n",
    "    }\n",
    "}"
   ]
  },
  {
   "cell_type": "code",
   "execution_count": 2,
   "id": "0725ba83",
   "metadata": {},
   "outputs": [],
   "source": [
    "# 1. Set up order list. Order list will store a list of dictionaries for\n",
    "# menu item name, item price, and quantity ordered\n",
    "order_list = [ {\n",
    "    \"Item_name\": \"string\",\n",
    "    \"Price\": float,\n",
    "    \"Quantity\": int\n",
    "  },\n",
    "  {\n",
    "    \"Item name\": \"string\",\n",
    "    \"Price\": float,\n",
    "    \"Quantity\": int\n",
    "  },\n",
    "]\n",
    "\n",
    "\n",
    "\n",
    " "
   ]
  },
  {
   "cell_type": "code",
   "execution_count": 3,
   "id": "da785f6b",
   "metadata": {},
   "outputs": [
    {
     "name": "stdout",
     "output_type": "stream",
     "text": [
      "Welcome to the variety food truck.\n"
     ]
    }
   ],
   "source": [
    "# Launch the store and present a greeting to the customer\n",
    "print(\"Welcome to the variety food truck.\")"
   ]
  },
  {
   "cell_type": "code",
   "execution_count": 14,
   "id": "e1997a7c",
   "metadata": {
    "lines_to_next_cell": 2
   },
   "outputs": [
    {
     "ename": "IndentationError",
     "evalue": "unindent does not match any outer indentation level (<tokenize>, line 90)",
     "output_type": "error",
     "traceback": [
      "\u001b[0;36m  File \u001b[0;32m<tokenize>:90\u001b[0;36m\u001b[0m\n\u001b[0;31m    else:\u001b[0m\n\u001b[0m    ^\u001b[0m\n\u001b[0;31mIndentationError\u001b[0m\u001b[0;31m:\u001b[0m unindent does not match any outer indentation level\n"
     ]
    }
   ],
   "source": [
    "# Customers may want to order multiple items, so let's create a continuous\n",
    "# loop\n",
    "place_order = True\n",
    "while place_order:\n",
    "    # Ask the customer from which menu category they want to order\n",
    "    print(\"From which menu would you like to order? \")\n",
    "\n",
    "    # Create a variable for the menu item number\n",
    "    i = 1\n",
    "    # Create a dictionary to store the menu for later retrieval\n",
    "    menu_items = {}\n",
    "\n",
    "    # Print the options to choose from menu headings (all the first level\n",
    "    # dictionary items in menu).\n",
    "    for key in menu.keys():\n",
    "        print(f\"{i}: {key}\")\n",
    "        # Store the menu category associated with its menu item number\n",
    "        menu_items[i] = key\n",
    "        # Add 1 to the menu item number\n",
    "        i += 1\n",
    "\n",
    "    # Get the customer's input\n",
    "    menu_category = input(\"Type menu number: \")\n",
    "\n",
    "    # Check if the customer's input is a number\n",
    "    if menu_category.isdigit():\n",
    "        # SONJA QUESTION _ shouldn't something be here?? can you have a double if statement?\n",
    "        # Check if the customer's input is a valid option\n",
    "        if int(menu_category) in menu_items.keys():\n",
    "            # Save the menu category name to a variable\n",
    "            menu_category_name = menu_items[int(menu_category)]\n",
    "            # Print out the menu category name they selected\n",
    "            print(f\"You selected {menu_category_name}\")\n",
    "\n",
    "            # Print out the menu options from the menu_category_name\n",
    "            print(f\"What {menu_category_name} item would you like to order?\")\n",
    "            i = 1\n",
    "            menu_items = {}\n",
    "            print(\"Item # | Item name                | Price\")\n",
    "            print(\"-------|--------------------------|-------\")\n",
    "            for key, value in menu[menu_category_name].items():\n",
    "                # Check if the menu item is a dictionary to handle differently\n",
    "                if type(value) is dict:\n",
    "                    for key2, value2 in value.items():\n",
    "                        num_item_spaces = 24 - len(key + key2) - 3\n",
    "                        item_spaces = \" \" * num_item_spaces\n",
    "                        print(f\"{i}      | {key} - {key2}{item_spaces} | ${value2}\")\n",
    "                        menu_items[i] = {\n",
    "                            \"Item name\": key + \" - \" + key2,\n",
    "                            \"Price\": value2\n",
    "                        }\n",
    "                        i += 1\n",
    "                else:\n",
    "                    num_item_spaces = 24 - len(key)\n",
    "                    item_spaces = \" \" * num_item_spaces\n",
    "                    print(f\"{i}      | {key}{item_spaces} | ${value}\")\n",
    "                    menu_items[i] = {\n",
    "                        \"Item name\": key,\n",
    "                        \"Price\": value\n",
    "                    }\n",
    "                    i += 1\n",
    "            # 2. Ask customer to input menu item number\n",
    "            input(\"Which item number would you like ? \")\n",
    "            \n",
    "            # 3. Check if the customer typed a number\n",
    "            if menu_category.isdigit():\n",
    "\n",
    "                # Convert the menu selection to an integer\n",
    "                menu_category = int(menu)\n",
    "\n",
    "            # 4. Check if the menu selection is in the menu items\n",
    "            if menu_category in menu_items:\n",
    "\n",
    "                    # Store the item name as a variable\n",
    "                    item_name = ()\n",
    "\n",
    "                    # Ask the customer for the quantity of the menu item\n",
    "                    input(f\"How many {item_name} would you like?\")\n",
    "\n",
    "                    # Check if the quantity is a number, default to 1 if not\n",
    "                    if menu_category.isdigit():\n",
    "                        else:\n",
    "                        menu_category = 1\n",
    "                    \n",
    "\n",
    "                    # Add the item name, price, and quantity to the order list\n",
    "                    append\n",
    "\n",
    "\n",
    "                    # Tell the customer that their input isn't valid\n",
    "\n",
    "            else:\n",
    "            # Tell the customer they didn't select a menu option\n",
    "                print(f\"{menu_category} was not a menu option.\")\n",
    "    else:\n",
    "        # Tell the customer they didn't select a number\n",
    "        print(\"You didn't select a number.\")\n",
    "\n",
    "    while True:\n",
    "        # Ask the customer if they would like to order anything else\n",
    "        keep_ordering = input(\"Would you like to keep ordering? (Y)es or (N)o \")\n",
    "\n",
    "        # 5. Check the customer's input\n",
    "\n",
    "                # Keep ordering\n",
    "\n",
    "                # Exit the keep ordering question loop\n",
    "\n",
    "                # Complete the order\n",
    "\n",
    "                # Since the customer decided to stop ordering, thank them for\n",
    "                # their order\n",
    "\n",
    "                # Exit the keep ordering question loop\n",
    "\n",
    "\n",
    "                # Tell the customer to try again"
   ]
  },
  {
   "cell_type": "code",
   "execution_count": null,
   "id": "8774ed2b",
   "metadata": {},
   "outputs": [],
   "source": [
    "# Print out the customer's order\n",
    "print(\"This is what we are preparing for you.\\n\")"
   ]
  },
  {
   "cell_type": "markdown",
   "id": "dda348f2",
   "metadata": {},
   "source": [
    "Uncomment the following line to check the structure of the order\n",
    "print(order)"
   ]
  },
  {
   "cell_type": "code",
   "execution_count": null,
   "id": "c9524138",
   "metadata": {},
   "outputs": [],
   "source": [
    "print(\"Item name                 | Price  | Quantity\")\n",
    "print(\"--------------------------|--------|----------\")"
   ]
  },
  {
   "cell_type": "markdown",
   "id": "bf453175",
   "metadata": {},
   "source": [
    "6. Loop through the items in the customer's order"
   ]
  },
  {
   "cell_type": "code",
   "execution_count": null,
   "id": "bdaab9b9",
   "metadata": {
    "lines_to_next_cell": 2
   },
   "outputs": [],
   "source": [
    "    # 7. Store the dictionary items as variables\n",
    "\n",
    "\n",
    "    # 8. Calculate the number of spaces for formatted printing\n",
    "\n",
    "\n",
    "    # 9. Create space strings\n",
    "\n",
    "\n",
    "    # 10. Print the item name, price, and quantity"
   ]
  },
  {
   "cell_type": "markdown",
   "id": "1d05d231",
   "metadata": {},
   "source": [
    "11. Calculate the cost of the order using list comprehension\n",
    "Multiply the price by quantity for each item in the order list, then sum()\n",
    "and print the prices."
   ]
  }
 ],
 "metadata": {
  "jupytext": {
   "cell_metadata_filter": "-all",
   "main_language": "python",
   "notebook_metadata_filter": "-all"
  },
  "kernelspec": {
   "display_name": "base",
   "language": "python",
   "name": "python3"
  },
  "language_info": {
   "codemirror_mode": {
    "name": "ipython",
    "version": 3
   },
   "file_extension": ".py",
   "mimetype": "text/x-python",
   "name": "python",
   "nbconvert_exporter": "python",
   "pygments_lexer": "ipython3",
   "version": "3.11.5"
  }
 },
 "nbformat": 4,
 "nbformat_minor": 5
}
